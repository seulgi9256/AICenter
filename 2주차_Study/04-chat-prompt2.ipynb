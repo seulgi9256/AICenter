{
 "cells": [
  {
   "cell_type": "code",
   "execution_count": 1,
   "metadata": {},
   "outputs": [],
   "source": [
    "from llm_provider import get_llm\n",
    "from langchain_core.prompts import PromptTemplate\n",
    "from langchain_core.output_parsers import StrOutputParser"
   ]
  },
  {
   "cell_type": "code",
   "execution_count": 2,
   "metadata": {},
   "outputs": [],
   "source": [
    "def stream_res(response):\n",
    "    for token in response:\n",
    "        print(token, end=\"\", flush=True)"
   ]
  },
  {
   "cell_type": "code",
   "execution_count": 6,
   "metadata": {},
   "outputs": [
    {
     "name": "stdout",
     "output_type": "stream",
     "text": [
      "대한민국의 수도에 대해서 알려주세요.\n",
      "수도의 특징을 다음의 양식에 맞게 정리해 주세요.\n",
      "300자 내외로 작성해 주세요.\n",
      "한글로 작성해 주세요.\n",
      "----\n",
      "[양식]\n",
      "1. 면적\n",
      "2. 인구\n",
      "3. 역사적 장소\n",
      "4. 특산품\n",
      "\n",
      "#Answer:\n",
      "\n"
     ]
    }
   ],
   "source": [
    "from langchain_core.prompts import load_prompt\n",
    "\n",
    "prompt = load_prompt(\"prompts/capital.yaml\", encoding=\"utf-8\")\n",
    "print(prompt.format(country=\"대한민국\"))"
   ]
  },
  {
   "cell_type": "code",
   "execution_count": 7,
   "metadata": {},
   "outputs": [],
   "source": [
    "llm = get_llm(temperature=0.1)\n",
    "# llm = get_llm(provider=\"ollama\",model=\"llama3.2\")\n",
    "chain = prompt|llm|StrOutputParser()"
   ]
  },
  {
   "cell_type": "code",
   "execution_count": 8,
   "metadata": {},
   "outputs": [
    {
     "name": "stdout",
     "output_type": "stream",
     "text": [
      "1. 면적: 서울특별시는 약 605.21㎢로, 대한민국의 수도이자 가장 큰 도시입니다.  \n",
      "2. 인구: 2023년 기준으로 서울의 인구는 약 9백만 명에 달하며, 국내에서 가장 인구 밀집도가 높은 지역입니다.  \n",
      "3. 역사적 장소: 경복궁, 창덕궁, 남산 N서울타워 등 다양한 역사적 장소가 있어 한국의 전통과 문화를 체험할 수 있습니다.  \n",
      "4. 특산품: 서울의 특산품으로는 한방차, 전통주, 그리고 다양한 길거리 음식들이 있으며, 특히 떡볶이와 순대가 유명합니다.  \n",
      "\n",
      "서울은 현대와 전통이 조화를 이루는 도시로, 다양한 문화와 역사를 경험할 수 있는 매력적인 장소입니다.\n"
     ]
    }
   ],
   "source": [
    "# input = {\"topic\": \"김치\"}\n",
    "# response = chain.invoke(input)\n",
    "\n",
    "response = chain.invoke(\"대한민국\")\n",
    "print(response)\n",
    "# print(response.content)"
   ]
  },
  {
   "cell_type": "code",
   "execution_count": 7,
   "metadata": {},
   "outputs": [
    {
     "name": "stdout",
     "output_type": "stream",
     "text": [
      "대한민국의 수도는 Seoul입니다.\n",
      "\n",
      " Seoul에 대해서 알려드릴 몇 가지 특징을 다음은 तरह으로 정리했습니다:\n",
      "\n",
      "1. 면적: 서울은 약 605.49 square kilometres(233.7 平方미ล)으로 크기가 커지며, 이중에 80%가 도로와 공원이ครอบ giữ되어 있습니다.\n",
      "2. 인구: 서울은 약 10,277,037 명으로 인구가 đôngdense한 도시 중 한 곳입니다.\n",
      "3. 역사적 장소: 서울은 한국의 역사적인 중심地로, 고대 세종대왕 시대부터 현재까지 많은 역사가와 문화를 보유하고 있습니다. 구세ون시(구 Seoul), 신세원시(신 Seoul), 전남성리와 같은 역사적인 지역이 존재합니다.\n",
      "4. 특산품: 서울은 한적한 자연을 바탕으로 다양한 식민물과 식물, 수식물과 화분을 보유하고 있으며, 유명한 한국식酒인 마스주(Makgeolli)와 소가고(소고기), 한라산고(韓良山고) 등이 있습니다."
     ]
    }
   ],
   "source": [
    "# input = {\"topic\": \"김치\"}\n",
    "# response = chain.stream(input)\n",
    "input = \"대한민국\"\n",
    "response = chain.invoke(input)\n",
    "stream_res(response)"
   ]
  },
  {
   "cell_type": "markdown",
   "metadata": {},
   "source": [
    "`ChatPromptTemplate` 은 대화목록을 프롬프트로 주입하고자 할 때 활용\n",
    "\n",
    "메시지는 튜플(tuple) 형식으로 구성하며, (`role`, `message`) 로 구성하여 리스트로 생성할 수 있다\n",
    "\n",
    "**role**\n",
    "- `\"system\"`: 시스템 설정 메시지 이다. 주로 전역설정과 관련된 프롬프트이다\n",
    "- `\"human\"` : 사용자 입력 메시지 이다\n",
    "- `\"ai\"`: AI 의 답변 메시지이다."
   ]
  },
  {
   "cell_type": "code",
   "execution_count": 10,
   "metadata": {},
   "outputs": [
    {
     "data": {
      "text/plain": [
       "ChatPromptValue(messages=[SystemMessage(content='You are a helpful AI bot. Your name is Bob.', additional_kwargs={}, response_metadata={}), HumanMessage(content='Hello, how are you doing?', additional_kwargs={}, response_metadata={}), AIMessage(content=\"I'm doing well, thanks!\", additional_kwargs={}, response_metadata={}), HumanMessage(content='What is your name?', additional_kwargs={}, response_metadata={})])"
      ]
     },
     "execution_count": 10,
     "metadata": {},
     "output_type": "execute_result"
    }
   ],
   "source": [
    "from langchain_core.prompts import ChatPromptTemplate\n",
    "\n",
    "template = ChatPromptTemplate([\n",
    "    (\"system\", \"You are a helpful AI bot. Your name is {name}.\"),\n",
    "    (\"human\", \"Hello, how are you doing?\"),\n",
    "    (\"ai\", \"I'm doing well, thanks!\"),\n",
    "    (\"human\", \"{user_input}\"),\n",
    "])\n",
    "\n",
    "prompt_value = template.invoke(\n",
    "    {\n",
    "        \"name\": \"Bob\",\n",
    "        \"user_input\": \"What is your name?\"\n",
    "    }\n",
    ")\n",
    "\n",
    "prompt_value"
   ]
  },
  {
   "cell_type": "code",
   "execution_count": 11,
   "metadata": {},
   "outputs": [
    {
     "data": {
      "text/plain": [
       "'My name is Bob. How can I assist you today?'"
      ]
     },
     "execution_count": 11,
     "metadata": {},
     "output_type": "execute_result"
    }
   ],
   "source": [
    "response = llm.invoke(prompt_value)\n",
    "response.content"
   ]
  },
  {
   "cell_type": "markdown",
   "metadata": {},
   "source": [
    "## FewShotPromptTemplate\n"
   ]
  },
  {
   "cell_type": "code",
   "execution_count": 12,
   "metadata": {},
   "outputs": [],
   "source": [
    "from langchain.prompts import FewShotPromptTemplate, PromptTemplate\n",
    "\n",
    "# 예제 데이터 정의\n",
    "examples = [\n",
    "    {\n",
    "        \"question\": \"아이유로 삼행시 만들어줘\",\n",
    "        \"answer\": \"\"\"\n",
    "아: 아이유는\n",
    "이: 이런 강의를 들을 이\n",
    "유: 유가 없다.\n",
    "\"\"\"\n",
    "    },\n",
    "    {\n",
    "        \"question\": \"김민수로 삼행시 만들어줘\",\n",
    "        \"answer\": \"\"\"\n",
    "김: 김치는 맛있다\n",
    "민: 민달팽이도 좋아하는 김치!\n",
    "수: 수억을 줘도 김치는 내꺼!\n",
    "\"\"\"\n",
    "    }\n",
    "]\n",
    "\n",
    "# 예제 포맷 템플릿 정의\n",
    "example_prompt = PromptTemplate(\n",
    "    input_variables=[\"question\", \"answer\"],\n",
    "    template=\"Question: {question}\\n{answer}\"\n",
    ")\n",
    "\n",
    "# FewShotPromptTemplate 생성\n",
    "few_shot_prompt = FewShotPromptTemplate(\n",
    "    examples=examples,  # 사용할 예제들\n",
    "    example_prompt=example_prompt,  # 예제 포맷 템플릿\n",
    "    suffix=\"Question:\\n{question}\\nAnswer:\", # 사용자 입력에 추가될 접미사\n",
    "    input_variables=[\"question\"]  # 입력 변수 정의\n",
    ")"
   ]
  },
  {
   "cell_type": "code",
   "execution_count": 13,
   "metadata": {},
   "outputs": [
    {
     "name": "stdout",
     "output_type": "stream",
     "text": [
      "장: 장대한 꿈을 가진\n",
      "보: 보물 같은 사람,\n",
      "고: 고난을 이겨내며 나아간다."
     ]
    }
   ],
   "source": [
    "# 사용자 질문 정의\n",
    "question = \"장보고  삼행시 만들어줘\"\n",
    "\n",
    "chain = few_shot_prompt | llm | StrOutputParser()\n",
    "# 최종 프롬프트 생성 및 출력\n",
    "answer = chain.stream(\n",
    "    {\"question\": question}\n",
    ")\n",
    "stream_res(answer)"
   ]
  },
  {
   "cell_type": "code",
   "execution_count": 14,
   "metadata": {},
   "outputs": [
    {
     "data": {
      "text/plain": [
       "ChatPromptTemplate(input_variables=['doc_summaries'], input_types={}, partial_variables={}, messages=[HumanMessagePromptTemplate(prompt=PromptTemplate(input_variables=['doc_summaries'], input_types={}, partial_variables={}, template='You are a helpful expert in summary writing. You are given lists of summaries.\\nPlease sum up previously summarized sentences according to the following REQUEST.\\nREQUEST:\\n1. Summarize the main points in bullet points in KOREAN.\\n2. Each summarized sentence must start with an emoji that fits the meaning of the each sentence.\\n3. Use various emojis to make the summary more interesting.\\n4. MOST IMPORTANT points should be organized at the top of the list.\\n5. DO NOT include any unnecessary information.\\n\\nLIST OF SUMMARIES:\\n{doc_summaries}\\n\\nHelpful Answer: '), additional_kwargs={})])"
      ]
     },
     "execution_count": 14,
     "metadata": {},
     "output_type": "execute_result"
    }
   ],
   "source": [
    "\n",
    "prompt_template = \"\"\"You are a helpful expert in summary writing. You are given lists of summaries.\n",
    "Please sum up previously summarized sentences according to the following REQUEST.\n",
    "REQUEST:\n",
    "1. Summarize the main points in bullet points in KOREAN.\n",
    "2. Each summarized sentence must start with an emoji that fits the meaning of the each sentence.\n",
    "3. Use various emojis to make the summary more interesting.\n",
    "4. MOST IMPORTANT points should be organized at the top of the list.\n",
    "5. DO NOT include any unnecessary information.\n",
    "\n",
    "LIST OF SUMMARIES:\n",
    "{doc_summaries}\n",
    "\n",
    "Helpful Answer: \"\"\"\n",
    "prompt = ChatPromptTemplate.from_template(prompt_template)\n",
    "\n",
    "prompt"
   ]
  },
  {
   "cell_type": "code",
   "execution_count": 17,
   "metadata": {},
   "outputs": [
    {
     "name": "stdout",
     "output_type": "stream",
     "text": [
      "장: 장대한 꿈을 가진\n",
      "보: 보물 같은 인생을\n",
      "고: 고대하는 사람!"
     ]
    }
   ],
   "source": [
    "# 사용자 질문 정의\n",
    "question = \"장보고  삼행시 만들어줘\"\n",
    "\n",
    "chain = few_shot_prompt | llm | StrOutputParser()\n",
    "# 최종 프롬프트 생성 및 출력\n",
    "answer = chain.stream(\n",
    "    {\"question\": question}\n",
    ")\n",
    "stream_res(answer)"
   ]
  }
 ],
 "metadata": {
  "kernelspec": {
   "display_name": ".venv",
   "language": "python",
   "name": "python3"
  },
  "language_info": {
   "codemirror_mode": {
    "name": "ipython",
    "version": 3
   },
   "file_extension": ".py",
   "mimetype": "text/x-python",
   "name": "python",
   "nbconvert_exporter": "python",
   "pygments_lexer": "ipython3",
   "version": "3.11.6"
  }
 },
 "nbformat": 4,
 "nbformat_minor": 2
}
