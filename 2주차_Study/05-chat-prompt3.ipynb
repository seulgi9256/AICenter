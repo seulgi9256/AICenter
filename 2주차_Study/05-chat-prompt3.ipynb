{
 "cells": [
  {
   "cell_type": "code",
   "execution_count": 2,
   "metadata": {},
   "outputs": [],
   "source": [
    "from langchain_core.output_parsers import StrOutputParser\n",
    "from llm_provider import get_llm\n",
    "from langchain_community.document_loaders import WebBaseLoader\n",
    "import bs4\n",
    "from langchain.prompts import PromptTemplate"
   ]
  },
  {
   "cell_type": "code",
   "execution_count": 3,
   "metadata": {},
   "outputs": [],
   "source": [
    "def stream_res(response):\n",
    "    for token in response:\n",
    "        print(token, end=\"\", flush=True)"
   ]
  },
  {
   "cell_type": "code",
   "execution_count": 4,
   "metadata": {},
   "outputs": [],
   "source": [
    "# llm = get_llm(provider=\"ollama\",model=\"llama3.2\")\n",
    "\n",
    "## openai\n",
    "llm = get_llm()"
   ]
  },
  {
   "cell_type": "code",
   "execution_count": 5,
   "metadata": {},
   "outputs": [
    {
     "name": "stdout",
     "output_type": "stream",
     "text": [
      "문서의 수: 1\n",
      "[Document(metadata={'source': 'https://n.news.naver.com/article/437/0000378416'}, page_content=\"\\n출산 직원에게 '1억원' 쏜다…회사의 파격적 저출생 정책\\n\\n\\n[앵커]올해 아이 낳을 계획이 있는 가족이라면 솔깃할 소식입니다. 정부가 저출생 대책으로 매달 주는 부모 급여, 0세 아이는 100만원으로 올렸습니다. 여기에 첫만남이용권, 아동수당까지 더하면 아이 돌까지 1년 동안 1520만원을 받습니다. 지자체도 경쟁하듯 지원에 나섰습니다. 인천시는 새로 태어난 아기, 18살될 때까지 1억원을 주겠다. 광주시도 17살될 때까지 7400만원 주겠다고 했습니다. 선거 때면 나타나서 아이 낳으면 현금 주겠다고 밝힌 사람이 있었죠. 과거에는 표만 노린 '황당 공약'이라는 비판이 따라다녔습니다. 그런데 지금은 출산율이 이보다 더 나쁠 수 없다보니, 이런 현금성 지원을 진지하게 정책화 하는 상황까지 온 겁니다. 게다가 기업들도 뛰어들고 있습니다. 이번에는 출산한 직원에게 단번에 1억원을 주겠다는 회사까지 나타났습니다.이상화 기자가 취재했습니다.[기자]한 그룹사가 오늘 파격적인 저출생 정책을 내놨습니다.2021년 이후 태어난 직원 자녀에 1억원씩, 총 70억원을 지원하고 앞으로도 이 정책을 이어가기로 했습니다.해당 기간에 연년생과 쌍둥이 자녀가 있으면 총 2억원을 받게 됩니다.[오현석/부영그룹 직원 : 아이 키우는 데 금전적으로 많이 힘든 세상이잖아요. 교육이나 생활하는 데 큰 도움이 될 거라 생각합니다.]만약 셋째까지 낳는 경우엔 국민주택을 제공하겠다는 뜻도 밝혔습니다.[이중근/부영그룹 회장 : 3년 이내에 세 아이를 갖는 분이 나올 것이고 따라서 주택을 제공할 수 있는 계기가 될 것으로 생각하고.][조용현/부영그룹 직원 : 와이프가 셋째도 갖고 싶어 했는데 경제적 부담 때문에 부정적이었거든요. (이제) 긍정적으로 생각할 수 있을 것 같습니다.]오늘 행사에서는, 회사가 제공하는 출산장려금은 받는 직원들의 세금 부담을 고려해 정부가 면세해달라는 제안도 나왔습니다.이같은 출산장려책은 점점 확산하는 분위기입니다.법정기간보다 육아휴직을 길게 주거나, 남성 직원의 육아휴직을 의무화한 곳도 있습니다.사내 어린이집을 밤 10시까지 운영하고 셋째를 낳으면 무조건 승진시켜 주기도 합니다.한 회사는 지난해 네쌍둥이를 낳은 직원에 의료비를 지원해 관심을 모았습니다.정부 대신 회사가 나서는 출산장려책이 사회적 분위기를 바꿀 거라는 기대가 커지는 가운데, 여력이 부족한 중소지원이 필요하다는 목소리도 나옵니다.[영상디자인 곽세미]\\n\\t\\t\\n\")]\n"
     ]
    }
   ],
   "source": [
    "url =\"https://n.news.naver.com/article/437/0000378416\"\n",
    "# url =\"https://n.news.naver.com/mnews/article/421/0008117615\"\n",
    "loader = WebBaseLoader(\n",
    "    web_paths=(url,),\n",
    "    bs_kwargs=dict(\n",
    "        parse_only=bs4.SoupStrainer(\n",
    "            \"div\",\n",
    "            attrs={\"class\": [\"newsct_article _article_body\",\n",
    "                             \"media_end_head_title\"]},\n",
    "        )\n",
    "    ),\n",
    ")\n",
    "\n",
    "\n",
    "docs = loader.load()\n",
    "print(f\"문서의 수: {len(docs)}\")\n",
    "print(docs)"
   ]
  },
  {
   "cell_type": "code",
   "execution_count": 5,
   "metadata": {},
   "outputs": [],
   "source": [
    "\n",
    "prompt_template = \"\"\"Please summarize the sentence according to the following REQUEST.\n",
    "REQUEST:\n",
    "1. Summarize the main points in bullet points.\n",
    "2. Each summarized sentence must start with an emoji that fits the meaning of the each sentence.\n",
    "3. Use various emojis to make the summary more interesting.\n",
    "4. DO NOT include any unnecessary information.\n",
    "5. Write a summary of the insights in KOREAN.\n",
    "\n",
    "CONTEXT:\n",
    "{context}\n",
    "\n",
    "SUMMARY:\"\n",
    "\"\"\"\n",
    "\n"
   ]
  },
  {
   "cell_type": "code",
   "execution_count": 6,
   "metadata": {},
   "outputs": [],
   "source": [
    "prompt = PromptTemplate.from_template(prompt_template)\n",
    "chain = prompt |llm| StrOutputParser()"
   ]
  },
  {
   "cell_type": "code",
   "execution_count": 7,
   "metadata": {},
   "outputs": [
    {
     "name": "stdout",
     "output_type": "stream",
     "text": [
      "Here is a summary of the article in bullet points with emojis:\n",
      "\n",
      "• 💸 정부가 매달 주는 부모 급여 100만원과 첫만남이용권, 아동수당을 포함하여 아이 돌까지 1년 동안 1520만원을 받을 수 있습니다.\n",
      " \n",
      "• 🤝 인천시는 새로 태어난 아기, 18살될 때까지 1억원을 주겠다. 광주시도 17살할 때까지 7400만원 주겠다고 했습니다.\n",
      "\n",
      "• 💰 이와 같이 empresas들도 뛰어들고 있습니다. 한 회사는 2021년 이후 태어난 직원 자녀에 1억원씩, 총 70억원을 지원하고 앞으로도 이 정책을 이어가기로 했습니다.\n",
      "\n",
      "• 🏠 국민주택을 제공하겠다는 뜻도 밝혔습니다. \n",
      "\n",
      "• 📝 여력이 부족한 중소지원이 필요하다는 목소리도 나옵니다.\n",
      "\n",
      "Here is a summary of the article in Korean:\n",
      "\n",
      "👶 정부가 매달 주는 부모 급여 100만원과 첫만남이용권, 아동수당을 포함하여 아이 돌까지 1년 동안 1520만원을 받을 수 있습니다. \n",
      "\n",
      "🤝 인천시는 새로 태어난 아기, 18살될 때까지 1억원을 주겠다. 광주시도 17살할 때까지 7400만원 주겠다고 했습니다.\n",
      "\n",
      "💰 이와 같이 empresas들도 뛰어들고 있습니다. 한 회사는 2021년 이후 태어난 직원 자녀에 1억원씩, 총 70억원을 지원하고 앞으로도 이 정책을 이어가기로 했습니다.\n",
      "\n",
      "🏠 국민주택을 제공하겠다는 뜻도 밝혔습니다. \n",
      "\n",
      "📝 여력이 부족한 중소지원이 필요하다는 목소리도 나옵니다."
     ]
    }
   ],
   "source": [
    "query = {\"context\": docs}\n",
    "\n",
    "response = chain.stream(query)\n",
    "stream_res(response)"
   ]
  },
  {
   "cell_type": "code",
   "execution_count": 8,
   "metadata": {},
   "outputs": [],
   "source": [
    "prompt_template2 =  \"\"\"Article: {ARTICLE}\n",
    "You will generate increasingly concise, entity-dense summaries of the above article. \n",
    "\n",
    "Repeat the following 2 steps 5 times. \n",
    "\n",
    "Step 1. Identify 1-3 informative entities (\";\" delimited) from the article which are missing from the previously generated summary. \n",
    "Step 2. Write a new, denser summary of identical length which covers every entity and detail from the previous summary plus the missing entities. \n",
    "\n",
    "A missing entity is:\n",
    "- relevant to the main story, \n",
    "- specific yet concise (100 words or fewer), \n",
    "- novel (not in the previous summary), \n",
    "- faithful (present in the article), \n",
    "- anywhere (can be located anywhere in the article).\n",
    "\n",
    "Guidelines:\n",
    "\n",
    "- The first summary should be long (8-10 sentences, ~200 words) yet highly non-specific, containing little information beyond the entities marked as missing. Use overly verbose language and fillers (e.g., \"this article discusses\") to reach ~200 words.\n",
    "- Make every word count: rewrite the previous summary to improve flow and make space for additional entities.\n",
    "- Make space with fusion, compression, and removal of uninformative phrases like \"the article discusses\".\n",
    "- The summaries should become highly dense and concise yet self-contained, i.e., easily understood without the article. \n",
    "- Missing entities can appear anywhere in the new summary.\n",
    "- Never drop entities from the previous summary. If space cannot be made, add fewer new entities. \n",
    "\n",
    "Remember, use the exact same number of words for each summary.\n",
    "Answer in JSON. The JSON should be a list (length 5) of dictionaries whose keys are \"Missing_Entities\" and \"Denser_Summary\".\n",
    "Use only KOREAN language to reply.\"\"\"\n"
   ]
  },
  {
   "cell_type": "code",
   "execution_count": 66,
   "metadata": {},
   "outputs": [],
   "source": [
    "prompt2 = PromptTemplate.from_template(prompt_template2)\n",
    "chain2 = prompt2 |llm| StrOutputParser()"
   ]
  },
  {
   "cell_type": "code",
   "execution_count": 67,
   "metadata": {},
   "outputs": [
    {
     "name": "stdout",
     "output_type": "stream",
     "text": [
      "```json\n",
      "[\n",
      "    {\n",
      "        \"Missing_Entities\": \"부영그룹; 이상화 기자; 3년\",\n",
      "        \"Denser_Summary\": \"출산 직원에게 1억원을 지급하는 파격적인 저출생 정책이 대두되고 있다. 정부의 저출생 대책으로 0세 아이 부모에게 월 100만원의 급여가 주어지며, 초기 아이 돌봄 비용으로 1520만원이 지원된다. 지자체에서도 인천시와 광주시가 각각 1억원과 7400만원을 지원하겠다고 밝혔고, 이는 과거 정치 공약과는 다른 진정성이 담겼다. 기업도 저출생 대책에 동참하고 있으며, 부영그룹이 2021년 이후 태어난 직원 자녀에게 1억원을 지급하는 정책을 시행키로 했다. 이상화 기자에 따르면, 이는 총 70억원 규모이다. 3년 이내에 3명이 태어날 경우 주택 제공도 예정되어 있다. 이 같은 출산 장려책은 법정 육아 휴직을 연장하고, 남성 직원의 육아휴직 의무화로 이어지고 있다. \"\n",
      "    },\n",
      "    {\n",
      "        \"Missing_Entities\": \"장려금; 의료비; 네쌍둥이\",\n",
      "        \"Denser_Summary\": \"부영그룹의 저출산 정책이 출산 직원에게 1억원을 지급하여 저출생 문제 해결을 추진하고 있다. 정부는 0세 아이 부모에게 매월 100만원을 지급하고, 지자체들은 인천시와 광주시에서 각각 1억원과 7400만원 지원을 약속하고 있다. 이러한 정책은 과거 정치적 공약과는 다른 실제적 변화로 반기고 있다. 특히 부영그룹은 2021년 이후 출생 고객 자녀에게 총 70억원을 지원하며, 3년 내에 3명 아이를 낳는 직원에게는 주택 제공할 예정이다. 직원들은 장려금을 통해 경제적 부담을 덜게 되고, 한 회사에서는 네쌍둥이를 낳은 직원에게 의료비를 지원했다는 사실이 주목받고 있다. \"\n",
      "    },\n",
      "    {\n",
      "        \"Missing_Entities\": \"아이 돌; 아동수당; 광주시\",\n",
      "        \"Denser_Summary\": \"부영그룹의 저출산 정책이 출산 직원에게 1억원 지급하며 주목받고 있다. 정부의 출산 장려책은 아동수당과 함께 0세 아동 부모에게 매월 100만원을 지급, 총 1520만원이 지원된다. 인천시와 광주시도 각각 1억원과 7400만원의 출산 지원을 약속, 생리적으로 저출생 문제 해결을 위한 진지한 노력으로 평가된다. 부영그룹은 2021년 이후 출산한 직원 자녀에게 1억원을 지원하며, 3년 내에 3명 아이를 낳는 분에게 주택을 제공할 예정이다. 이러한 출산 장려금은 직원들의 경제적 부담을 완화시키며, 모든 정책이 확대되는 추세이다. \"\n",
      "    },\n",
      "    {\n",
      "        \"Missing_Entities\": \"출산율; 저출생; 세금 부담\",\n",
      "        \"Denser_Summary\": \"부영그룹이 출산 직원에게 1억원을 지원하는 저출산 정책이 시행된다. 0세 아이를 둔 부모에게 정부는 매월 100만원을 지급하며, 총 지원액은 1520만원에 달한다. 인천시와 광주시도 각각 1억원과 7400만원 지원을 약속함에 따라 저출생 문제 해결을 위한 정책들이 지속적으로 수립되고 있다. 부영그룹은 2021년 이후 태어난 자녀에 대해 1억원 지원을 결정했으며, 3년 내에 셋째 자녀를 출산할 경우 주택도 제공할 예정이다. 출산장려금은 세금 부담을 고려하여 정부에 면세 요청 또한 제기됐다. 출산율이 악화되는 현실 속에서 기업의 출산 장려가 주목받고 있는 상황이다.\"\n",
      "    },\n",
      "    {\n",
      "        \"Missing_Entities\": \"육아휴직; 취재; 사내 어린이집\",\n",
      "        \"Denser_Summary\": \"부영그룹의 출산 직원에게 1억원 지급 정책이 저출산 대책으로 시행된다. 정부는 0세 아동 부모에 월 100만원 지급하며, 총 지원액이 1520만원에 달한다. 인천시와 광주시도 출산 장려금으로 각각 1억원과 7400만원 지원을 약속하였다. 부영그룹은 2021년 이후 태어난 자녀에게 1억원을 지원하고, 3년 내에 셋째 자녀를 둔 경우 주택 제공을 밝혔으며, 이 같은 출산장려금은 세금 부담을 줄일 방안도 요구하고 있다. 육아휴직 기간을 늘리거나 사내 어린이집 운영 시간 연장 등의 정책도 도입되고 있는 가운데, 기업의 출산 장려가 점차 확산되고 있다.\"\n",
      "    }\n",
      "]\n",
      "```"
     ]
    }
   ],
   "source": [
    "query = {\"ARTICLE\": docs}\n",
    "# print(query)\n",
    "\n",
    "response = chain2.stream(query)\n",
    "stream_res(response)"
   ]
  }
 ],
 "metadata": {
  "kernelspec": {
   "display_name": ".venv",
   "language": "python",
   "name": "python3"
  },
  "language_info": {
   "codemirror_mode": {
    "name": "ipython",
    "version": 3
   },
   "file_extension": ".py",
   "mimetype": "text/x-python",
   "name": "python",
   "nbconvert_exporter": "python",
   "pygments_lexer": "ipython3",
   "version": "3.11.6"
  }
 },
 "nbformat": 4,
 "nbformat_minor": 2
}
