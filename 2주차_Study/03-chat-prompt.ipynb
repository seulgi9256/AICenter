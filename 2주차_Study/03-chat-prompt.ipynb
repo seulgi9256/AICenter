{
 "cells": [
  {
   "cell_type": "code",
   "execution_count": 8,
   "metadata": {},
   "outputs": [],
   "source": [
    "from llm_provider import get_llm\n",
    "from langchain_core.prompts import PromptTemplate\n",
    "from langchain_core.output_parsers import StrOutputParser"
   ]
  },
  {
   "cell_type": "code",
   "execution_count": 9,
   "metadata": {},
   "outputs": [],
   "source": [
    "def stream_res(response):\n",
    "    for token in response:\n",
    "        print(token, end=\"\", flush=True)"
   ]
  },
  {
   "cell_type": "code",
   "execution_count": 10,
   "metadata": {},
   "outputs": [
    {
     "name": "stdout",
     "output_type": "stream",
     "text": [
      "input_variables=['topic'] input_types={} partial_variables={} template='{topic}에 대해서 알려줘?'\n"
     ]
    }
   ],
   "source": [
    "## PromptTemplate : 사용자의 입력 변수를 사용하여 완전한 프롬프트 문자열을 만드는 데 사용되는 템플릿\n",
    "\n",
    "template = \"{topic}에 대해서 알려줘?\"\n",
    "prompt = PromptTemplate.from_template(template)\n",
    "\n",
    "print(prompt)"
   ]
  },
  {
   "cell_type": "markdown",
   "metadata": {},
   "source": [
    "## Chain 생성\n",
    "### LCEL(LangChain Expression Language)\n",
    "\n",
    "```\n",
    "chain = prompt | llm | output_parser\n",
    "```\n",
    "- 이 체인에서 사용자 입력은 프롬프트 템플릿으로 전달되고, 그런 다음 프롬프트 템플릿 출력은 모델로 전달"
   ]
  },
  {
   "cell_type": "code",
   "execution_count": 16,
   "metadata": {},
   "outputs": [],
   "source": [
    "llm = get_llm(temperature=0.1)\n",
    "# llm = get_llm(provider=\"ollama\",model=\"llama3.2\")\n",
    "chain = prompt|llm|StrOutputParser()"
   ]
  },
  {
   "cell_type": "code",
   "execution_count": 17,
   "metadata": {},
   "outputs": [
    {
     "name": "stdout",
     "output_type": "stream",
     "text": [
      "김치는 한국의 전통 발효 음식으로, 주로 배추나 무와 같은 채소를 소금, 고춧가루, 마늘, 생강, 그리고 다양한 양념과 함께 버무려 발효시켜 만든 것입니다. 김치는 그 종류가 매우 다양하며, 지역이나 계절에 따라 재료와 조리법이 달라질 수 있습니다.\n",
      "\n",
      "김치의 주요 특징은 다음과 같습니다:\n",
      "\n",
      "1. **발효**: 김치는 발효 과정에서 유산균이 생성되어 건강에 좋은 프로바이오틱스를 제공합니다. 이로 인해 소화에 도움을 주고 면역력을 강화하는 효과가 있습니다.\n",
      "\n",
      "2. **영양가**: 김치는 비타민 A, C, K, 그리고 다양한 미네랄이 풍부하여 영양가가 높습니다. 또한, 저칼로리 식품으로 다이어트에도 좋습니다.\n",
      "\n",
      "3. **다양성**: 김치의 종류는 매우 다양합니다. 대표적인 김치로는 배추김치, 깍두기(무김치), 오이소박이, 열무김치 등이 있습니다.\n",
      "\n",
      "4. **문화적 의미**: 김치는 한국의 식문화에서 중요한 역할을 하며, 한국의 식탁에서 빠질 수 없는 반찬입니다. 또한, 김치 담그기(김장)는 한국의 전통적인 풍습으로, 가족과 이웃이 함께 모여 김치를 담그는 행사입니다.\n",
      "\n",
      "5. **세계적인 인기**: 최근 몇 년간 김치는 세계적으로 인기를 끌고 있으며, 다양한 나라에서 한국 음식점이 생기고 김치가 다양한 요리에 활용되고 있습니다.\n",
      "\n",
      "김치는 그 맛과 건강 효능 덕분에 많은 사람들에게 사랑받고 있는 음식입니다.\n"
     ]
    }
   ],
   "source": [
    "input = {\"topic\": \"김치\"}\n",
    "response = chain.invoke(input)\n",
    "print(response)\n",
    "# print(response.content)"
   ]
  },
  {
   "cell_type": "code",
   "execution_count": 18,
   "metadata": {},
   "outputs": [
    {
     "name": "stdout",
     "output_type": "stream",
     "text": [
      "김치는 한국의 전통 발효 음식으로, 주로 배추나 무와 같은 채소를 소금, 고춧가루, 마늘, 생강, 그리고 다양한 양념과 함께 버무려 발효시켜 만든 것입니다. 김치는 그 종류가 매우 다양하며, 지역이나 계절에 따라 재료와 조리법이 달라질 수 있습니다.\n",
      "\n",
      "김치의 주요 특징은 다음과 같습니다:\n",
      "\n",
      "1. **발효**: 김치는 발효 과정을 통해 유산균이 생성되어 건강에 좋은 프로바이오틱스를 제공합니다. 이로 인해 소화에 도움을 주고 면역력을 강화하는 효과가 있습니다.\n",
      "\n",
      "2. **영양가**: 김치는 비타민 A, C, K, 그리고 다양한 미네랄이 풍부하여 영양가가 높습니다. 저칼로리 식품으로 다이어트에도 좋습니다.\n",
      "\n",
      "3. **다양성**: 김치의 종류는 매우 다양합니다. 대표적인 김치로는 배추김치, 무김치, 오이소박이, 열무김치 등이 있으며, 각 지역마다 특색 있는 김치가 존재합니다.\n",
      "\n",
      "4. **문화적 의미**: 김치는 한국의 식문화에서 중요한 역할을 하며, 한국인의 식탁에서 빠질 수 없는 반찬입니다. 또한, 김치 담그기(김장)는 한국의 전통적인 풍습으로, 가족과 이웃이 함께 모여 김치를 담그는 행사입니다.\n",
      "\n",
      "김치는 그 맛과 건강 효능 덕분에 세계적으로도 인기를 얻고 있으며, 다양한 요리에 활용되고 있습니다."
     ]
    }
   ],
   "source": [
    "input = {\"topic\": \"김치\"}\n",
    "response = chain.stream(input)\n",
    "stream_res(response)"
   ]
  },
  {
   "cell_type": "code",
   "execution_count": 19,
   "metadata": {},
   "outputs": [],
   "source": [
    "template2 = \"\"\"\n",
    "당신은 20년차 전문 리뷰어 입니다 다음 기사 내용을 3줄로 요약해 주세요 \n",
    "\n",
    "#상황:\n",
    "{context}\n",
    "\n",
    "\"\"\"\n",
    "\n",
    "prompt2 = PromptTemplate.from_template(template2)"
   ]
  },
  {
   "cell_type": "code",
   "execution_count": 20,
   "metadata": {},
   "outputs": [],
   "source": [
    "llm = get_llm(temperature=0.1)\n",
    "# llm = get_llm(provider=\"ollama\",model=\"llama3.2\")\n",
    "chain = prompt2|llm|StrOutputParser()"
   ]
  },
  {
   "cell_type": "code",
   "execution_count": 21,
   "metadata": {},
   "outputs": [
    {
     "name": "stdout",
     "output_type": "stream",
     "text": [
      "SK텔레콤은 모바일월드콩그레스(MWC)25에서 혁신적인 AI 기술을 전시하며 큰 관심을 받았고, 792㎡ 규모의 전시관에서 다양한 AI 솔루션과 체험존을 선보였다. 특히 'AI인프라 슈퍼 하이웨이' 전략을 소개하는 대형 미디어아트와 레이싱 게임 체험존이 관람객들의 호응을 얻었다. SKT는 글로벌 기업들과의 협업을 강화하며 AI 데이터센터 사업 전략을 확립하는 성과를 거두었다."
     ]
    }
   ],
   "source": [
    "context = \"\"\"\n",
    "SK텔레콤이 스페인 바르셀로나에서 열린 모바일월드콩그레스(MWC)25에서 혁신적인 인공지능(AI) 기술을 전시하며 글로벌 ICT 업계 관계자들로부터 큰 관심을 받았다고 7일 밝혔다.\n",
    "지난 3일(현지시각)부터 6일까지 열린 MWC25에서 SKT는 792㎡규모의 단독 전시관을 마련, AI 데이터센터 솔루션과 이동통신의 가치를 높이는 AI 기술들을 선보였다.\n",
    "이번 MWC25의 SKT 전시관은 각각 '네트워크 AI', 'AI DC', 'AI 플랫폼', 'AI 서비스', 'AI 얼라이언스' 구역으로 다양하게 구성됐으며 AI를 접목한 첨단기술 및 서비스를 소개하는 전시 아이템들이 배치됐다.\n",
    "특히 전시장 메인 입구에 배치된 대형 미디어아트는 움직이는 18개의 LED 패널로 'AI인프라 슈퍼 하이웨이' 전략을 감각적으로 소개해 많은 관람객들의 관심을 끌었다. 행사 기간 동안 총 7만여명이 부스를 방문했으며 세계 각국의 관람객들은 AI 데이터센터를 형상화한 구조물 곳곳에 배치된 첨단 기술에 감탄했다.\n",
    "구슬을 활용한 레이싱 게임을 통해 'AI인프라 슈퍼 하이웨이' 전략을 표현한 체험존도 인기였다. SKT 전시관 출구에 위치한 이 체험존에는 게임을 즐기는 인파가 몰려 환호성이 끊이지 않는 등 큰 주목을 받았다.\n",
    "CNBC, 블룸버그(Bloomberg), 니케이(Nikkei) 등 외신들도 SKT 전시관을 주목했다. 전시 기간 중 다수의 글로벌 미디어가 SKT의 AI 데이터센터 사업 전략과 '글로벌 텔코 AI 얼라이언스' 활동에 주목했다.\n",
    "SKT는 이번 MWC에서 다양한 AI 기업과의 비즈니스 협업 성과도 올렸다. MWC 개막일에 글로벌 텔코 AI 얼라이언스(Global Telco AI Alliance)로 협업 중인 도이치텔레콤, 이앤(e&)그룹, 싱텔 그룹, 소프트뱅크와 AI 협력을 더욱 공고히 하는데 뜻을 모았다.\n",
    "SKT는 이번 MWC로 AI 데이터센터의 핵심 기술 역량을 갖추기 위한 파트너십도 강화했다. 180년 이상의 역사를 자랑하는 에너지 관리 및 자동화 분야 글로벌 기업 슈나이더 일렉트릭(Schneider Electric)과 AI데이터센터 MEP(Mechanical, Electrical, Plumbing : 기계, 전력, 수배전) 시스템 분야 협력을 위한 파트너십을 맺었다.\n",
    "\"\"\"\n",
    "query = {\"context\": context}\n",
    "response = chain.stream(query)\n",
    "stream_res(response)"
   ]
  },
  {
   "cell_type": "markdown",
   "metadata": {},
   "source": [
    "### Parallel"
   ]
  },
  {
   "cell_type": "code",
   "execution_count": 22,
   "metadata": {},
   "outputs": [
    {
     "data": {
      "text/plain": [
       "{'capital': '대한민국의 수도는 서울입니다.',\n",
       " 'population': '2023년 기준으로 대한민국의 인구는 약 5,100만 명 정도입니다. 하지만 인구는 지속적으로 변동하므로, 최신 통계는 한국 통계청이나 관련 기관의 공식 자료를 참고하는 것이 좋습니다.'}"
      ]
     },
     "execution_count": 22,
     "metadata": {},
     "output_type": "execute_result"
    }
   ],
   "source": [
    "from langchain_core.runnables import RunnableParallel\n",
    "\n",
    "# {country} 의 수도를 물어보는 체인을 생성합니다.\n",
    "chain1 = (\n",
    "    PromptTemplate.from_template(\"{country} 의 수도는 어디야?\")\n",
    "    | llm\n",
    "    | StrOutputParser()\n",
    ")\n",
    "\n",
    "# {country} 의 면적을 물어보는 체인을 생성합니다.\n",
    "chain2 = (\n",
    "    PromptTemplate.from_template(\"{country} 의 인구는 얼마야?\")\n",
    "    | llm\n",
    "    | StrOutputParser()\n",
    ")\n",
    "\n",
    "# 위의 2개 체인을 동시에 생성하는 병렬 실행 체인을 생성합니다.\n",
    "combined = RunnableParallel(capital=chain1, population=chain2)\n",
    "\n",
    "combined.invoke({\"country\": \"대한민국\"})"
   ]
  },
  {
   "cell_type": "code",
   "execution_count": 23,
   "metadata": {},
   "outputs": [
    {
     "data": {
      "text/plain": [
       "['대한민국의 수도는 서울입니다.', '미국의 수도는 워싱턴 D.C.입니다.']"
      ]
     },
     "execution_count": 23,
     "metadata": {},
     "output_type": "execute_result"
    }
   ],
   "source": [
    "chain1.batch([{\"country\": \"대한민국\"}, {\"country\": \"미국\"}])"
   ]
  },
  {
   "cell_type": "code",
   "execution_count": 24,
   "metadata": {},
   "outputs": [
    {
     "data": {
      "text/plain": [
       "['2023년 기준으로 대한민국의 인구는 약 5,100만 명 정도입니다. 하지만 인구는 지속적으로 변동하므로, 최신 통계는 한국 통계청이나 관련 기관의 공식 자료를 참고하는 것이 좋습니다.',\n",
       " '2023년 기준으로 미국의 인구는 약 3억 3천만 명 정도로 추정됩니다. 정확한 인구 수치는 시간이 지남에 따라 변동할 수 있으므로, 최신 정보를 확인하려면 미국 인구 조사국의 공식 웹사이트를 참고하는 것이 좋습니다.']"
      ]
     },
     "execution_count": 24,
     "metadata": {},
     "output_type": "execute_result"
    }
   ],
   "source": [
    "chain2.batch([{\"country\": \"대한민국\"}, {\"country\": \"미국\"}])"
   ]
  },
  {
   "cell_type": "code",
   "execution_count": 17,
   "metadata": {},
   "outputs": [
    {
     "data": {
      "text/plain": [
       "[{'capital': '대한민국의 수도는 Seoul입니다.',\n",
       "  'population': '2021년 12월 기준, 한국의 인구는 약 51.8만 명입니다.'},\n",
       " {'capital': '미국 의 수도는 워싱턴 D.C.입니다.',\n",
       "  'population': '미국 인구는 2022년 약 334,654,200명입니다.'}]"
      ]
     },
     "execution_count": 17,
     "metadata": {},
     "output_type": "execute_result"
    }
   ],
   "source": [
    "combined.batch([{\"country\": \"대한민국\"}, {\"country\": \"미국\"}])"
   ]
  }
 ],
 "metadata": {
  "kernelspec": {
   "display_name": ".venv",
   "language": "python",
   "name": "python3"
  },
  "language_info": {
   "codemirror_mode": {
    "name": "ipython",
    "version": 3
   },
   "file_extension": ".py",
   "mimetype": "text/x-python",
   "name": "python",
   "nbconvert_exporter": "python",
   "pygments_lexer": "ipython3",
   "version": "3.11.6"
  }
 },
 "nbformat": 4,
 "nbformat_minor": 2
}
